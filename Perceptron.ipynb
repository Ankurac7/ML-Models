{
  "nbformat": 4,
  "nbformat_minor": 0,
  "metadata": {
    "colab": {
      "provenance": [],
      "authorship_tag": "ABX9TyOhLD6o0/sDF9VLXz74w/bY",
      "include_colab_link": true
    },
    "kernelspec": {
      "name": "python3",
      "display_name": "Python 3"
    },
    "language_info": {
      "name": "python"
    }
  },
  "cells": [
    {
      "cell_type": "markdown",
      "metadata": {
        "id": "view-in-github",
        "colab_type": "text"
      },
      "source": [
        "<a href=\"https://colab.research.google.com/github/Ankurac7/ML-Models/blob/main/Perceptron.ipynb\" target=\"_parent\"><img src=\"https://colab.research.google.com/assets/colab-badge.svg\" alt=\"Open In Colab\"/></a>"
      ]
    },
    {
      "cell_type": "code",
      "execution_count": 1,
      "metadata": {
        "id": "89Hqrf3mtYSS",
        "colab": {
          "base_uri": "https://localhost:8080/"
        },
        "outputId": "1ff05689-1914-4e54-951f-b3ae51d7470f"
      },
      "outputs": [
        {
          "name": "stdout",
          "output_type": "stream",
          "text": [
            "Enter the value of data 1: 3\n",
            "Enter the value of data 2: 4\n",
            "\n",
            "Which activation function do you want to use?\n",
            "1. Sigmoid\n",
            "2. Rectified Linear Unit (ReLU)\n",
            "3. Threshold\n",
            "4. Tanh\n",
            "5. Exit\n",
            "Enter your choice: 1\n",
            "Enter the slope of the sigmoid: 1\n",
            "1.00\n",
            "Class 1\n",
            "\n",
            "Which activation function do you want to use?\n",
            "1. Sigmoid\n",
            "2. Rectified Linear Unit (ReLU)\n",
            "3. Threshold\n",
            "4. Tanh\n",
            "5. Exit\n",
            "Enter your choice: 4\n",
            "1.00\n",
            "Class 1\n",
            "\n",
            "Which activation function do you want to use?\n",
            "1. Sigmoid\n",
            "2. Rectified Linear Unit (ReLU)\n",
            "3. Threshold\n",
            "4. Tanh\n",
            "5. Exit\n",
            "Enter your choice: 5\n"
          ]
        }
      ],
      "source": [
        "import math\n",
        "\n",
        "def sigmoid(x):\n",
        "    k = float(input(\"Enter the slope of the sigmoid: \"))\n",
        "    z = 1 / (1 + math.exp(-k * x))\n",
        "    return z\n",
        "\n",
        "def relu(x):\n",
        "    z = x if x >= 0 else 0\n",
        "    return z\n",
        "\n",
        "def tanh(x):\n",
        "    z = math.tanh(x)\n",
        "    return z\n",
        "\n",
        "def step(x):\n",
        "    t = float(input(\"Enter the value of the threshold: \"))\n",
        "    z = 1 if x >= t else 0\n",
        "    return z\n",
        "\n",
        "# define a dictionary of activation functions\n",
        "activation_functions = {\n",
        "    1: sigmoid,\n",
        "    2: relu,\n",
        "    3: step,\n",
        "    4: tanh,\n",
        "}\n",
        "\n",
        "# prompt the user for the data and weight values\n",
        "x1 = float(input(\"Enter the value of data 1: \"))\n",
        "x2 = float(input(\"Enter the value of data 2: \"))\n",
        "w0 = 1\n",
        "w1 = -1\n",
        "w2 = 2\n",
        "\n",
        "# prompt the user for the activation function choice\n",
        "while True:\n",
        "    print(\"\\nWhich activation function do you want to use?\")\n",
        "    print(\"1. Sigmoid\")\n",
        "    print(\"2. Rectified Linear Unit (ReLU)\")\n",
        "    print(\"3. Threshold\")\n",
        "    print(\"4. Tanh\")\n",
        "    print(\"5. Exit\")\n",
        "    choice = int(input(\"Enter your choice: \"))\n",
        "    if choice == 5:\n",
        "        break\n",
        "    elif choice not in activation_functions:\n",
        "        print(\"Invalid choice. Please choose again.\")\n",
        "        continue\n",
        "\n",
        "    # calculate the output using the selected activation function\n",
        "    add = x1 * w1 + x2 * w2 + w0\n",
        "    y = activation_functions[choice](add)\n",
        "\n",
        "    # print the output and predicted class\n",
        "    if y > 0.5:\n",
        "        print(\"{:.2f}\\nClass 1\".format(y))\n",
        "    else:\n",
        "        print(\"{:.2f}\\nClass 2\".format(y))\n"
      ]
    }
  ]
}